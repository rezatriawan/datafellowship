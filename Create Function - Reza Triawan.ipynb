{
 "cells": [
  {
   "cell_type": "code",
   "execution_count": 4,
   "metadata": {},
   "outputs": [
    {
     "name": "stdout",
     "output_type": "stream",
     "text": [
      "My name is Reza, i live in Bandung, i was born on 2 June\n"
     ]
    }
   ],
   "source": [
    "#1 Create function your_identity\n",
    "def your_identity(name, adress, birthday):\n",
    "    print('My name is {0}, i live in {1}, i was born on {2}'.format(name, adress, birthday))\n",
    "\n",
    "#2 Run the code\n",
    "your_identity('Reza', 'Bandung', '2 June' )"
   ]
  }
 ],
 "metadata": {
  "kernelspec": {
   "display_name": "Python 3",
   "language": "python",
   "name": "python3"
  },
  "language_info": {
   "codemirror_mode": {
    "name": "ipython",
    "version": 3
   },
   "file_extension": ".py",
   "mimetype": "text/x-python",
   "name": "python",
   "nbconvert_exporter": "python",
   "pygments_lexer": "ipython3",
   "version": "3.7.6"
  }
 },
 "nbformat": 4,
 "nbformat_minor": 4
}
